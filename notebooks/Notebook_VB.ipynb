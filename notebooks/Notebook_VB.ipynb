{
 "cells": [
  {
   "cell_type": "markdown",
   "metadata": {},
   "source": [
    "# Gaussian mixtures estimation using VB & EM algorithms"
   ]
  },
  {
   "cell_type": "markdown",
   "metadata": {},
   "source": [
    "This notebook aims at comparing Variational Bayes and Expectation Maximization algorithms for estimating Gaussian mixtures. It contains a numerical illustration of Algorithm 3 of the research paper 'Consistency of Variational Bayes Inference for Estimation and Model Selection in Mixtures' (blablabla).\n",
    "\n",
    "We estimate a simple unit-variance Gaussian mixture using the Coordinate Descent Variational Inference algorithm for $\\alpha=0.5$. We compare it to the case $\\alpha=1$ (equivalent to the classical CAVI algorithm) and to EM algorithm.\n",
    "\n",
    "We compare our algorithms using the Mean Average Error (MAE) between the estimates and the true parameters. We consider 10 different unit-variance Gaussian mixtures which parameters are generated independently from a Dirichlet distribution and Gaussians (see the code below). From these mixtures, we create 10 different datasets which contain 1000 i.i.d. realizations of the corresponding mixtures. For each dataset, we run each algorithm 5 times and keep the one with the lowest MAE in order to avoid situations where the initialization leads to a local optimum. Then, we average the resulting MAEs over the different datasets to obtain the final values of the MAE. We also record the standard deviation of the MAE over the different datasets."
   ]
  },
  {
   "cell_type": "markdown",
   "metadata": {},
   "source": [
    "### Import packages"
   ]
  },
  {
   "cell_type": "code",
   "execution_count": 1,
   "metadata": {
    "collapsed": true
   },
   "outputs": [],
   "source": [
    "import numpy as np\n",
    "import pandas as pd\n",
    "import matplotlib.pyplot as plt\n",
    "from scipy.special import *\n",
    "import time\n",
    "% matplotlib inline"
   ]
  },
  {
   "cell_type": "markdown",
   "metadata": {},
   "source": [
    "### Coordinate Descent Variational Inference algorithm"
   ]
  },
  {
   "cell_type": "code",
   "execution_count": 2,
   "metadata": {
    "collapsed": true
   },
   "outputs": [],
   "source": [
    "# Coordinate Descent Variational Inference CDVI algorithm\n",
    "\n",
    "def CDVI(K, prior_var, prior_alpha, n, data, alpha):\n",
    "    \n",
    "    # Random initialization\n",
    "    mu_mean = np.random.normal(0, prior_var,K)\n",
    "    mu_var = abs(np.random.normal(0, prior_var,K))\n",
    "    phi = abs(np.random.normal(0, prior_var,K))      \n",
    "    weights = np.zeros((n, K))\n",
    "    col = np.random.choice(K,n)\n",
    "    for j in range(K):\n",
    "        weights[col==j,j]=1\n",
    "    \n",
    "    \n",
    "    # Number of iterations counter\n",
    "    ii=0\n",
    "    \n",
    "    # Initiate CDVI iterations\n",
    "    while(True):\n",
    "        mu_mean_prev = mu_mean.copy()\n",
    "        phi_prev = phi.copy()\n",
    "        \n",
    "        # mixture model parameter update step\n",
    "        for j in range(K):\n",
    "            sn = np.sum(weights[:,j]*data)\n",
    "            sd = np.sum(weights[:,j])\n",
    "            mu_mean[j] = alpha*sn/((1/prior_var**2) + alpha*sd)\n",
    "            mu_var[j] = 1/((1/prior_var**2) + alpha*sd)\n",
    "\n",
    "        # categorical vector update step\n",
    "        weights_int = np.zeros((n,K))\n",
    "        for j in range(K):\n",
    "            weights_int[:,j] = np.exp(psi(phi[j]) - psi(sum(phi)) + mu_mean[j]*data[:] - (mu_var[j] + mu_mean[j]**2)/2)\n",
    "        for k in range(K):\n",
    "            weights[:,k] = weights_int[:,k]/weights_int.sum(axis=1)\n",
    "                \n",
    "        # weight parameter update step\n",
    "        for j in range(K):\n",
    "            phi[j] = prior_alpha[j] + alpha*np.sum(weights[:,j])\n",
    "                    \n",
    "        ii+=1\n",
    "                \n",
    "        # convergence of variational estimators\n",
    "        if (np.dot(np.array(mu_mean_prev) - np.array(mu_mean), np.array(mu_mean_prev) - np.array(mu_mean)) < 1e-10):\n",
    "            if (np.dot(np.array(phi_prev) - np.array(phi), np.array(phi_prev) - np.array(phi)) < 1e-10):\n",
    "                break\n",
    "            \n",
    "    #print('Algorithm converges in', ii, 'iterations')\n",
    "    \n",
    "    mu_mean = np.array(mu_mean)\n",
    "    mu_var = np.array(mu_var)\n",
    "    phi = np.array(phi)\n",
    "\n",
    "    # return final estimates\n",
    "    return(mu_mean, mu_var, weights, phi)"
   ]
  },
  {
   "cell_type": "markdown",
   "metadata": {},
   "source": [
    "### Hyperparameters definition"
   ]
  },
  {
   "cell_type": "code",
   "execution_count": 3,
   "metadata": {
    "collapsed": true
   },
   "outputs": [],
   "source": [
    "# Priors hyperparameters\n",
    "prior_var = 10\n",
    "prior_alpha = [2/3,2/3,2/3]\n",
    "\n",
    "# Dimensions of the problem\n",
    "K = 3\n",
    "n = 1000"
   ]
  },
  {
   "cell_type": "markdown",
   "metadata": {},
   "source": [
    "### Comparison with EM"
   ]
  },
  {
   "cell_type": "code",
   "execution_count": 4,
   "metadata": {
    "scrolled": false
   },
   "outputs": [
    {
     "name": "stdout",
     "output_type": "stream",
     "text": [
      "Running time : 8.196572542190552 seconds\n"
     ]
    }
   ],
   "source": [
    "# Compute running time\n",
    "start = time.time()\n",
    "\n",
    "\n",
    "# Define Mean Average Errors & Standard Dev of the weight and parameter components estimators for the three algorithms\n",
    "\n",
    "serie_poids_aVB=[]\n",
    "serie_param_aVB=[[] for _ in range(K)]\n",
    "\n",
    "serie_poids_CAVI=[]\n",
    "serie_param_CAVI=[[] for _ in range(K)]\n",
    "\n",
    "serie_poids_EM=[]\n",
    "serie_param_EM=[[] for _ in range(K)]\n",
    "\n",
    "# 'serie_poids_algorithm' will be a list containing the MAE of the weight for each of the 10 created datasets\n",
    "# 'serie_param_algorithm' will be a list containing the list of components MAEs for each of the 10 created datasets\n",
    "\n",
    "\n",
    "# For 10 different datasets\n",
    "for i in range(10):\n",
    "    \n",
    "    # Draw parameters randomly\n",
    "    p_true = np.random.dirichlet(prior_alpha)\n",
    "    mu = np.random.normal(0, prior_var,K)\n",
    "    # Simulate data : pick component and sample from the corresponding distribution\n",
    "    N = np.random.choice(K, n, p=p_true)\n",
    "    data = np.random.normal(mu[N], 1, n)\n",
    "    \n",
    "    # Prediction errors for the CDVI algorithm for this dataset (best of 5 random initializations to avoid local extrema)\n",
    "    # Create a temporary list that will contain the 5 values of MAEs for the 5 random intializations\n",
    "    serie_poids_temp=[]\n",
    "    serie_param_temp=[[] for _ in range(K)]\n",
    "    for l in range(5):\n",
    "        # Define estimated parameters for 5 different initializations\n",
    "        mu_mean, mu_var, weights, phi = CDVI(K, prior_var, prior_alpha, n, data, 0.5)\n",
    "        poids = list(phi/sum(phi))\n",
    "        # Add MAE obtained for this initialization to the temporay list\n",
    "        serie_poids_temp.append(sum(abs(np.array(sorted(poids))-np.array(sorted(p_true)))))\n",
    "        for j in range(K):\n",
    "            serie_param_temp[j].append(abs(sorted(mu_mean)[j]-sorted(mu)[j]))\n",
    "    \n",
    "    # Best of 5 initializations\n",
    "    serie_poids_aVB.append(min([serie_poids_temp[l] for l in range(5)]))\n",
    "    for j in range(K):\n",
    "        serie_param_aVB[j].append(min([serie_param_temp[j][l] for l in range(5)]))\n",
    "        \n",
    "    # Prediction errors for the CAVI algorithm for this dataset (best of 5 random initializations to avoid local extrema)\n",
    "    # Create a temporary list that will contain the 5 values of MAEs for the 5 random intializations\n",
    "    serie_poids_temp=[]\n",
    "    serie_param_temp=[[] for _ in range(K)]\n",
    "    for l in range(5):\n",
    "        # Define estimated parameters for 5 different initializations\n",
    "        mu_mean, mu_var, weights, phi = CDVI(K, prior_var, prior_alpha, n, data, 1)\n",
    "        poids = list(phi/sum(phi))\n",
    "        serie_poids_temp.append(sum(abs(np.array(sorted(poids))-np.array(sorted(p_true)))))\n",
    "        # Add MAE obtained for this initialization to the temporay list\n",
    "        for j in range(K):\n",
    "            serie_param_temp[j].append(abs(sorted(mu_mean)[j]-sorted(mu)[j]))\n",
    "            \n",
    "    # Best of 5 initializations\n",
    "    serie_poids_CAVI.append(min([serie_poids_temp[l] for l in range(5)]))\n",
    "    for j in range(K):\n",
    "        serie_param_CAVI[j].append(min([serie_param_temp[j][l] for l in range(5)]))\n",
    "    \n",
    "    # Prediction errors for the EM algorithm for this dataset (best of 5 random initializations to avoid local extrema)\n",
    "    # Create a temporary list that will contain the 5 values of MAEs for the 5 random intializations\n",
    "    serie_poids_temp=[]\n",
    "    serie_param_temp=[[] for _ in range(K)]\n",
    "    for l in range(5):\n",
    "        # Define estimated parameters for 5 different initializations\n",
    "        mu_mean, mu_var, weights, phi = CDVI(K, prior_var, prior_alpha, n, data, 0.5)\n",
    "        poids = list(phi/sum(phi))\n",
    "        serie_poids_temp.append(sum(abs(np.array(sorted(poids))-np.array(sorted(p_true)))))\n",
    "        # Add MAE obtained for this initialization to the temporay list\n",
    "        for j in range(K):\n",
    "            serie_param_temp[j].append(abs(sorted(mu_mean)[j]-sorted(mu)[j]))\n",
    "            \n",
    "    # Best of 5 initializations\n",
    "    serie_poids_EM.append(min([serie_poids_temp[l] for l in range(5)]))\n",
    "    for j in range(K):\n",
    "        serie_param_EM[j].append(min([serie_param_temp[j][l] for l in range(5)]))\n",
    "\n",
    "\n",
    "# Average the MAEs and the standard devs accross the different datasets and obtain the final values\n",
    "MAE_poids_aVB=np.mean(serie_poids_aVB)\n",
    "std_poids_aVB=np.std(serie_poids_aVB)\n",
    "MAE_poids_CAVI=np.mean(serie_poids_CAVI)\n",
    "std_poids_CAVI=np.std(serie_poids_CAVI)\n",
    "MAE_poids_EM=np.mean(serie_poids_EM)\n",
    "std_poids_EM=np.std(serie_poids_EM)\n",
    "MAE_param_aVB=[np.mean(serie_param_aVB[k]) for k in range(K)]\n",
    "std_param_aVB=[np.std(serie_param_aVB[k]) for k in range(K)]\n",
    "MAE_param_CAVI=[np.mean(serie_param_CAVI[k]) for k in range(K)]\n",
    "std_param_CAVI=[np.std(serie_param_CAVI[k]) for k in range(K)]\n",
    "MAE_param_EM=[np.mean(serie_param_EM[k]) for k in range(K)]\n",
    "std_param_EM=[np.std(serie_param_EM[k]) for k in range(K)]\n",
    "\n",
    "# Running time\n",
    "end = time.time()\n",
    "print('Running time :', end - start, 'seconds')"
   ]
  },
  {
   "cell_type": "markdown",
   "metadata": {},
   "source": [
    "### Print the final results"
   ]
  },
  {
   "cell_type": "code",
   "execution_count": 5,
   "metadata": {
    "scrolled": false
   },
   "outputs": [
    {
     "name": "stdout",
     "output_type": "stream",
     "text": [
      "alpha-VB : MAE : weight : 0.0581608631127 , components : [0.78785634773818169, 1.0542170095085945, 0.53166271677534505]\n",
      "         : std : weight : 0.036179092105 , components : [2.1396219815095576, 1.8089346878153001, 1.1308546560072157]\n",
      "\n",
      "CAVI     : MAE : weight : 0.0520629745943 , components : [0.787908956687568, 0.68138240823362584, 0.15583486210411968]\n",
      "         : std : weight : 0.0376684661035 , components : [2.1396129253608756, 1.5792407336364849, 0.13201899595516536]\n",
      "\n",
      "EM       : MAE : weight : 0.0581608133597 , components : [0.78779631157391716, 1.0542169568340523, 0.53166265848076444]\n",
      "         : std : weight : 0.0361790485619 , components : [2.1396421840829718, 1.8089347150782544, 1.1308546761502078]\n"
     ]
    }
   ],
   "source": [
    "print('alpha-VB : MAE :', 'weight :', MAE_poids_aVB, ', components :', MAE_param_aVB)\n",
    "print('         : std :', 'weight :', std_poids_aVB, ', components :', std_param_aVB)\n",
    "print()\n",
    "print('CAVI     : MAE :', 'weight :', MAE_poids_CAVI, ', components :', MAE_param_CAVI)\n",
    "print('         : std :', 'weight :', std_poids_CAVI, ', components :', std_param_CAVI)\n",
    "print()\n",
    "print('EM       : MAE :', 'weight :', MAE_poids_EM, ', components :', MAE_param_EM)\n",
    "print('         : std :', 'weight :', std_poids_EM, ', components :', std_param_EM)"
   ]
  },
  {
   "cell_type": "code",
   "execution_count": null,
   "metadata": {
    "collapsed": true
   },
   "outputs": [],
   "source": []
  }
 ],
 "metadata": {
  "kernelspec": {
   "display_name": "Python 3",
   "language": "python",
   "name": "python3"
  },
  "language_info": {
   "codemirror_mode": {
    "name": "ipython",
    "version": 3
   },
   "file_extension": ".py",
   "mimetype": "text/x-python",
   "name": "python",
   "nbconvert_exporter": "python",
   "pygments_lexer": "ipython3",
   "version": "3.6.3"
  }
 },
 "nbformat": 4,
 "nbformat_minor": 2
}
